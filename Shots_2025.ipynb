{
  "nbformat": 4,
  "nbformat_minor": 0,
  "metadata": {
    "colab": {
      "provenance": [],
      "mount_file_id": "1D2XYaPWxSTQPAaoQVUipRgX6T2sttXNo",
      "authorship_tag": "ABX9TyMtA6A90lmjmxZ3gy0uoeRC",
      "include_colab_link": true
    },
    "kernelspec": {
      "name": "python3",
      "display_name": "Python 3"
    },
    "language_info": {
      "name": "python"
    }
  },
  "cells": [
    {
      "cell_type": "markdown",
      "metadata": {
        "id": "view-in-github",
        "colab_type": "text"
      },
      "source": [
        "<a href=\"https://colab.research.google.com/github/adroc/Lacrosse/blob/main/Shots_2025.ipynb\" target=\"_parent\"><img src=\"https://colab.research.google.com/assets/colab-badge.svg\" alt=\"Open In Colab\"/></a>"
      ]
    },
    {
      "cell_type": "code",
      "source": [
        "import pandas as pd\n",
        "import matplotlib.pyplot as plt\n",
        "import numpy as np\n",
        "import plotly.express as px\n",
        "\n"
      ],
      "metadata": {
        "id": "DKgAWON5OXpZ"
      },
      "execution_count": 1,
      "outputs": []
    },
    {
      "cell_type": "code",
      "source": [
        "TC20250227 = [\n",
        "    [1, 4, -7, 7, \"P\", \"LHL\", \"\", \"\"],\n",
        "    [1, 33, 7, 6, \"S\", \"RLH\", \"5.05\", \"\"],\n",
        "    [1, 23, -10, 13, \"W\", \"RSP\", \"5.31\", \"\"],\n",
        "    [1, 4, -3, 3, \"W\", \"\", \"7.32\", \"Unsettled\"],\n",
        "    [1, 23, -2, 0, \"S\", \"CHL\", \"\", \"\"],\n",
        "    [1, 12, -5, 5, \"S\", \"RHL\", \"9.05\", \"\"],\n",
        "    [1, 11, 5, 5, \"S\", \"RHL\", \"\", \"\"],\n",
        "    [1, 23, -10, 15, \"S\", \"RHH\", \"11.43\", \"\"],\n",
        "    [1, 33, 7, 7, \"S\", \"RLL\", \"12.24\", \"\"],\n",
        "    [1, 33, 3, 3, \"P\", \"RMH\", \"13.48\", \"MU\"],\n",
        "    [1, 11, -12, 10, \"W\", \"RM\", \"14.06\", \"\"],\n",
        "    [1, 23, -8, 13, \"P\", \"RH\", \"14.5\", \"\"],\n",
        "    [1, 12, -5, 17, \"S\", \"RLL\", \"15.2\", \"\"],\n",
        "    [1, 8, 2, 1, \"W\", \"RLM\", \"15.53\", \"\"],\n",
        "    [2, 4, -7, 7, \"S\", \"LHL\", \"17.19\", \"\"],\n",
        "    [2, 11, 4, 6, \"S\", \"RHH\", \"17.25\", \"\"],\n",
        "    [2, 8, 2, 3, \"G\", \"RLL\", \"17.53\", \"Unsettled\"],\n",
        "    [2, 4, 7, 5, \"S\", \"LHL\", \"20.25\", \"\"],\n",
        "    [2, 4, -7, 4, \"S\", \"LLM\", \"23.36\", \"\"],\n",
        "    [2, 23, -9, 8, \"S\", \"RHM\", \"26.54\", \"\"],\n",
        "    [2, 4, -2, 2, \"G\", \"LHH\", \"27.04\", \"\"],\n",
        "    [2, 33, 7, 5, \"S\", \"RLL\", \"29.01\", \"Unsettled\"],\n",
        "    [2, 33, 9, 9, \"W\", \"LHM\", \"30.45\", \"\"],\n",
        "    [2, 8, -1, 1, \"S\", \"BLL\", \"31.55\", \"\"],\n",
        "    [2, 8, 2, 12, \"G\", \"RMH\", \"32.58\", \"MU\"],\n",
        "    [2, 23, 1, 12, \"S\", \"LHL\", \"33.43\", \"\"],\n",
        "    [3, 4, -4, 5, \"W\", \"LMM\", \"37.1\", \"Unsettled\"],\n",
        "    [3, 23, -7, 12, \"W\", \"RH\", \"38.22\", \"MU\"],\n",
        "    [3, 33, 7, 7, \"W\", \"RLH\", \"38.3\", \"MU\"],\n",
        "    [3, 8, 1, 2, \"G\", \"RLL\", \"38.55\", \"MU\"],\n",
        "    [3, 33, 7, 7, \"S\", \"RLM\", \"40.08\", \"\"],\n",
        "    [3, 33, 2, 5, \"G\", \"RLL\", \"41.54\", \"\"],\n",
        "    [4, 4, -3, 4, \"G\", \"L\", \"46.49\", \"EN\"],\n",
        "    [4, 23, -7, 7, \"S\", \"RHL\", \"53.56\", \"\"],\n",
        "    [4, 4, -7, 7, \"G\", \"LMH\", \"54.12\", \"\"],\n",
        "    [4, 33, 8, 7, \"S\", \"RMH\", \"56.41\", \"FD\"],\n",
        "    [4, 12, 1, 2, \"S\", \"RHH\", \"57.34\", \"MU\"],\n",
        "    [4, 33, 10, 2, \"W\", \"RMM\", \"60.25\", \"\"],\n",
        "    [4, 33, 7, 7, \"S\", \"RMH\", \"60.37\", \"\"],\n",
        "]\n"
      ],
      "metadata": {
        "id": "tUoujq7nPokx"
      },
      "execution_count": 2,
      "outputs": []
    },
    {
      "cell_type": "code",
      "source": [
        "columns = [\"Quarter\", \"Player #\", \"x\", \"y\", \"E\", \"Hand/angles\", \"~time in quarter\", \"Situation\"]\n",
        "df = pd.DataFrame(TC20250227, columns=columns)\n",
        "\n",
        "# Function to filter data by quarter and/or player\n",
        "def plot_shots(df, quarter=None, player=None):\n",
        "    filtered_df = df\n",
        "    if quarter:\n",
        "        filtered_df = filtered_df[filtered_df[\"Quarter\"] == quarter]\n",
        "    if player:\n",
        "        filtered_df = filtered_df[filtered_df[\"Player #\"] == player]\n",
        "\n",
        "    # Create plot\n",
        "    fig, ax = plt.subplots(figsize=(10, 6))\n",
        "    ax.set_xlim(-15, 15)\n",
        "    ax.set_ylim(0, 20)\n",
        "    ax.set_title(\"Lacrosse Shot Chart\")\n",
        "    ax.set_xlabel(\"Field X Position\")\n",
        "    ax.set_ylabel(\"Field Y Position\")\n",
        "\n",
        "    # Draw the goal area\n",
        "    #ax.plot([-3, 3], [0, 0], color='black', linewidth=3)  # Goal line\n",
        "    #ax.add_patch(plt.Rectangle((-3, 0), 6, 4, fill=False, edgecolor='black', linestyle='dashed'))  # Crease\n",
        "\n",
        "    # Plot each shot with different markers\n",
        "    for _, row in filtered_df.iterrows():\n",
        "        color = 'blue'  # Default for missed shots\n",
        "        marker = 'o'\n",
        "        if row['E'] == 'G':\n",
        "            color = 'red'  # Goals in red\n",
        "            marker = 'P'\n",
        "        elif row['E'] == 'S':\n",
        "            color = 'green'  # Saves in green\n",
        "        elif row['E'] == 'P':\n",
        "            color = 'orange'  # Pipe shots in orange\n",
        "        elif row['E'] == 'W':\n",
        "            color = 'gray'  # Missed wide shots in gray\n",
        "\n",
        "        ax.scatter(row['x'], row['y'], c=color, marker=marker, s=100, label=row['E'])\n",
        "\n",
        "    plt.show()\n",
        "\n",
        "# Example Usage\n",
        "plot_shots(df, quarter=1)  # Highlight shots from Quarter 1\n",
        "# plot_shots(df, player=4)    # Highlight shots from Player #4\n",
        "# plot_shots(df, quarter=1, player=4)  # Filter by both Quarter and Player\n"
      ],
      "metadata": {
        "colab": {
          "base_uri": "https://localhost:8080/",
          "height": 564
        },
        "id": "ymC71CdtQPCF",
        "outputId": "901005b1-59c4-403c-8561-2ca4463442ea"
      },
      "execution_count": 3,
      "outputs": [
        {
          "output_type": "display_data",
          "data": {
            "text/plain": [
              "<Figure size 1000x600 with 1 Axes>"
            ],
            "image/png": "[encoded data removed]"
          },
          "metadata": {}
        }
      ]
    },
    {
      "cell_type": "code",
      "source": [
        "df = pd.DataFrame(TC20250227, columns=columns)\n",
        "# First, check if your dataframe has data\n",
        "print(f\"Original dataframe shape: {df.shape}\")\n",
        "print(df.head())\n",
        "\n",
        "# Check the columns to ensure x, y, and E exist\n",
        "print(f\"Columns in dataframe: {df.columns.tolist()}\")\n",
        "\n",
        "# Check unique values in the E column\n",
        "if 'E' in df.columns:\n",
        "    print(f\"Unique values in E column: {df['E'].unique()}\")\n",
        "\n",
        "# Verify x and y are numeric\n",
        "if 'x' in df.columns and 'y' in df.columns:\n",
        "    print(f\"x dtype: {df['x'].dtype}, y dtype: {df['y'].dtype}\")\n",
        "    print(f\"x range: ({df['x'].min()}, {df['x'].max()}), y range: ({df['y'].min()}, {df['y'].max()})\")\n",
        "\n",
        "# Modified function with more robust error handling\n",
        "def plot_shots_interactive(df, quarter=None, player=None):\n",
        "    filtered_df = df.copy()\n",
        "\n",
        "    # Ensure x and y are numeric\n",
        "    for col in ['x', 'y']:\n",
        "        if col in filtered_df.columns:\n",
        "            filtered_df[col] = pd.to_numeric(filtered_df[col], errors='coerce')\n",
        "\n",
        "    # Apply filters\n",
        "    if quarter is not None:\n",
        "        filtered_df = filtered_df[filtered_df[\"Quarter\"] == quarter]\n",
        "    if player is not None:\n",
        "        filtered_df = filtered_df[filtered_df[\"Player #\"] == player]\n",
        "\n",
        "    print(f\"Filtered dataframe shape: {filtered_df.shape}\")\n",
        "\n",
        "    if filtered_df.empty:\n",
        "        print(\"Warning: No data after filtering!\")\n",
        "        return\n",
        "\n",
        "    # Define colors for different shot results\n",
        "    color_map = {\"G\": \"red\", \"S\": \"green\", \"P\": \"orange\", \"W\": \"gray\"}\n",
        "\n",
        "    # Handle potential missing values in color_map\n",
        "    if 'E' in filtered_df.columns:\n",
        "        missing_colors = [v for v in filtered_df['E'].unique() if v not in color_map and not pd.isna(v)]\n",
        "        for val in missing_colors:\n",
        "            color_map[val] = \"blue\"  # Default color for undefined values\n",
        "\n",
        "    # Create Plotly scatter plot\n",
        "    fig = px.scatter(\n",
        "        filtered_df,\n",
        "        x=\"x\",\n",
        "        y=\"y\",\n",
        "        color=\"E\",\n",
        "        color_discrete_map=color_map,\n",
        "        hover_data=[\"Quarter\", \"Player #\", \"E\", \"Hand/angles\", \"~time in quarter\", \"Situation\"],\n",
        "        title=\"Lacrosse Shot Chart\",\n",
        "        labels={\"x\": \"Field X Position\", \"y\": \"Field Y Position\"},\n",
        "    )\n",
        "\n",
        "    # Add goal line and crease (static annotations)\n",
        "    #fig.add_shape(\n",
        "     #   type=\"line\",\n",
        "      #  x0=-3, y0=0, x1=3, y1=0,\n",
        "       # line=dict(color=\"black\", width=3)\n",
        "    #)\n",
        "    #fig.add_shape(\n",
        "     #   type=\"rect\",\n",
        "      #  x0=-3, y0=0, x1=3, y1=4,\n",
        "       # line=dict(color=\"black\", width=2, dash=\"dash\")\n",
        "    #)\n",
        "\n",
        "    # Improve layout for better visualization\n",
        "    fig.update_layout(\n",
        "        plot_bgcolor='white',\n",
        "        xaxis=dict(showgrid=True, gridwidth=1, gridcolor='lightgray'),\n",
        "        yaxis=dict(showgrid=True, gridwidth=1, gridcolor='lightgray')\n",
        "    )\n",
        "\n",
        "    return fig\n",
        "\n",
        "# Call the function and display the plot\n",
        "fig = plot_shots_interactive(df)\n",
        "if fig is not None:\n",
        "    fig.show()"
      ],
      "metadata": {
        "colab": {
          "base_uri": "https://localhost:8080/",
          "height": 750
        },
        "id": "6Qv2c55ZTUX3",
        "outputId": "8d52cd9d-1880-4d2d-e992-822c9e613d29"
      },
      "execution_count": 5,
      "outputs": [
        {
          "output_type": "stream",
          "name": "stdout",
          "text": [
            "Original dataframe shape: (39, 8)\n",
            "   Quarter  Player #   x   y  E Hand/angles ~time in quarter  Situation\n",
            "0        1         4  -7   7  P         LHL                            \n",
            "1        1        33   7   6  S         RLH             5.05           \n",
            "2        1        23 -10  13  W         RSP             5.31           \n",
            "3        1         4  -3   3  W                         7.32  Unsettled\n",
            "4        1        23  -2   0  S         CHL                            \n",
            "Columns in dataframe: ['Quarter', 'Player #', 'x', 'y', 'E', 'Hand/angles', '~time in quarter', 'Situation']\n",
            "Unique values in E column: ['P' 'S' 'W' 'G']\n",
            "x dtype: int64, y dtype: int64\n",
            "x range: (-12, 10), y range: (0, 17)\n",
            "Filtered dataframe shape: (39, 8)\n"
          ]
        },
        {
          "output_type": "display_data",
          "data": {
            "text/html": [
              "<html>\n",
              "<head><meta charset=\"utf-8\" /></head>\n",
              "<body>\n",
              "    <div>            <script src=\"https://cdnjs.cloudflare.com/ajax/libs/mathjax/2.7.5/MathJax.js?config=TeX-AMS-MML_SVG\"></script><script type=\"text/javascript\">if (window.MathJax && window.MathJax.Hub && window.MathJax.Hub.Config) {window.MathJax.Hub.Config({SVG: {font: \"STIX-Web\"}});}</script>                <script type=\"text/javascript\">window.PlotlyConfig = {MathJaxConfig: 'local'};</script>\n",
              "        <script charset=\"utf-8\" src=\"https://cdn.plot.ly/plotly-2.35.2.min.js\"></script>                <div id=\"b553831b-e706-471c-bb49-2db127b779fc\" class=\"plotly-graph-div\" style=\"height:525px; width:100%;\"></div>            <script type=\"text/javascript\">                                    window.PLOTLYENV=window.PLOTLYENV || {};                                    if (document.getElementById(\"b553831b-e706-471c-bb49-2db127b779fc\")) {                    Plotly.newPlot(                        \"b553831b-e706-471c-bb49-2db127b779fc\",                        [{\"customdata\":[[1,4,\"P\",\"LHL\",\"\",\"\"],[1,33,\"P\",\"RMH\",\"13.48\",\"MU\"],[1,23,\"P\",\"RH\",\"14.5\",\"\"]],\"hovertemplate\":\"E=%{customdata[2]}\\u003cbr\\u003eField X Position=%{x}\\u003cbr\\u003eField Y Position=%{y}\\u003cbr\\u003eQuarter=%{customdata[0]}\\u003cbr\\u003ePlayer #=%{customdata[1]}\\u003cbr\\u003eHand\\u002fangles=%{customdata[3]}\\u003cbr\\u003e~time in quarter=%{customdata[4]}\\u003cbr\\u003eSituation=%{customdata[5]}\\u003cextra\\u003e\\u003c\\u002fextra\\u003e\",\"legendgroup\":\"P\",\"marker\":{\"color\":\"orange\",\"symbol\":\"circle\"},\"mode\":\"markers\",\"name\":\"P\",\"orientation\":\"v\",\"showlegend\":true,\"x\":[-7,3,-8],\"xaxis\":\"x\",\"y\":[7,3,13],\"yaxis\":\"y\",\"type\":\"scatter\"},{\"customdata\":[[1,33,\"S\",\"RLH\",\"5.05\",\"\"],[1,23,\"S\",\"CHL\",\"\",\"\"],[1,12,\"S\",\"RHL\",\"9.05\",\"\"],[1,11,\"S\",\"RHL\",\"\",\"\"],[1,23,\"S\",\"RHH\",\"11.43\",\"\"],[1,33,\"S\",\"RLL\",\"12.24\",\"\"],[1,12,\"S\",\"RLL\",\"15.2\",\"\"],[2,4,\"S\",\"LHL\",\"17.19\",\"\"],[2,11,\"S\",\"RHH\",\"17.25\",\"\"],[2,4,\"S\",\"LHL\",\"20.25\",\"\"],[2,4,\"S\",\"LLM\",\"23.36\",\"\"],[2,23,\"S\",\"RHM\",\"26.54\",\"\"],[2,33,\"S\",\"RLL\",\"29.01\",\"Unsettled\"],[2,8,\"S\",\"BLL\",\"31.55\",\"\"],[2,23,\"S\",\"LHL\",\"33.43\",\"\"],[3,33,\"S\",\"RLM\",\"40.08\",\"\"],[4,23,\"S\",\"RHL\",\"53.56\",\"\"],[4,33,\"S\",\"RMH\",\"56.41\",\"FD\"],[4,12,\"S\",\"RHH\",\"57.34\",\"MU\"],[4,33,\"S\",\"RMH\",\"60.37\",\"\"]],\"hovertemplate\":\"E=%{customdata[2]}\\u003cbr\\u003eField X Position=%{x}\\u003cbr\\u003eField Y Position=%{y}\\u003cbr\\u003eQuarter=%{customdata[0]}\\u003cbr\\u003ePlayer #=%{customdata[1]}\\u003cbr\\u003eHand\\u002fangles=%{customdata[3]}\\u003cbr\\u003e~time in quarter=%{customdata[4]}\\u003cbr\\u003eSituation=%{customdata[5]}\\u003cextra\\u003e\\u003c\\u002fextra\\u003e\",\"legendgroup\":\"S\",\"marker\":{\"color\":\"green\",\"symbol\":\"circle\"},\"mode\":\"markers\",\"name\":\"S\",\"orientation\":\"v\",\"showlegend\":true,\"x\":[7,-2,-5,5,-10,7,-5,-7,4,7,-7,-9,7,-1,1,7,-7,8,1,7],\"xaxis\":\"x\",\"y\":[6,0,5,5,15,7,17,7,6,5,4,8,5,1,12,7,7,7,2,7],\"yaxis\":\"y\",\"type\":\"scatter\"},{\"customdata\":[[1,23,\"W\",\"RSP\",\"5.31\",\"\"],[1,4,\"W\",\"\",\"7.32\",\"Unsettled\"],[1,11,\"W\",\"RM\",\"14.06\",\"\"],[1,8,\"W\",\"RLM\",\"15.53\",\"\"],[2,33,\"W\",\"LHM\",\"30.45\",\"\"],[3,4,\"W\",\"LMM\",\"37.1\",\"Unsettled\"],[3,23,\"W\",\"RH\",\"38.22\",\"MU\"],[3,33,\"W\",\"RLH\",\"38.3\",\"MU\"],[4,33,\"W\",\"RMM\",\"60.25\",\"\"]],\"hovertemplate\":\"E=%{customdata[2]}\\u003cbr\\u003eField X Position=%{x}\\u003cbr\\u003eField Y Position=%{y}\\u003cbr\\u003eQuarter=%{customdata[0]}\\u003cbr\\u003ePlayer #=%{customdata[1]}\\u003cbr\\u003eHand\\u002fangles=%{customdata[3]}\\u003cbr\\u003e~time in quarter=%{customdata[4]}\\u003cbr\\u003eSituation=%{customdata[5]}\\u003cextra\\u003e\\u003c\\u002fextra\\u003e\",\"legendgroup\":\"W\",\"marker\":{\"color\":\"gray\",\"symbol\":\"circle\"},\"mode\":\"markers\",\"name\":\"W\",\"orientation\":\"v\",\"showlegend\":true,\"x\":[-10,-3,-12,2,9,-4,-7,7,10],\"xaxis\":\"x\",\"y\":[13,3,10,1,9,5,12,7,2],\"yaxis\":\"y\",\"type\":\"scatter\"},{\"customdata\":[[2,8,\"G\",\"RLL\",\"17.53\",\"Unsettled\"],[2,4,\"G\",\"LHH\",\"27.04\",\"\"],[2,8,\"G\",\"RMH\",\"32.58\",\"MU\"],[3,8,\"G\",\"RLL\",\"38.55\",\"MU\"],[3,33,\"G\",\"RLL\",\"41.54\",\"\"],[4,4,\"G\",\"L\",\"46.49\",\"EN\"],[4,4,\"G\",\"LMH\",\"54.12\",\"\"]],\"hovertemplate\":\"E=%{customdata[2]}\\u003cbr\\u003eField X Position=%{x}\\u003cbr\\u003eField Y Position=%{y}\\u003cbr\\u003eQuarter=%{customdata[0]}\\u003cbr\\u003ePlayer #=%{customdata[1]}\\u003cbr\\u003eHand\\u002fangles=%{customdata[3]}\\u003cbr\\u003e~time in quarter=%{customdata[4]}\\u003cbr\\u003eSituation=%{customdata[5]}\\u003cextra\\u003e\\u003c\\u002fextra\\u003e\",\"legendgroup\":\"G\",\"marker\":{\"color\":\"red\",\"symbol\":\"circle\"},\"mode\":\"markers\",\"name\":\"G\",\"orientation\":\"v\",\"showlegend\":true,\"x\":[2,-2,2,1,2,-3,-7],\"xaxis\":\"x\",\"y\":[3,2,12,2,5,4,7],\"yaxis\":\"y\",\"type\":\"scatter\"}],                        {\"template\":{\"data\":{\"histogram2dcontour\":[{\"type\":\"histogram2dcontour\",\"colorbar\":{\"outlinewidth\":0,\"ticks\":\"\"},\"colorscale\":[[0.0,\"#0d0887\"],[0.1111111111111111,\"#46039f\"],[0.2222222222222222,\"#7201a8\"],[0.3333333333333333,\"#9c179e\"],[0.4444444444444444,\"#bd3786\"],[0.5555555555555556,\"#d8576b\"],[0.6666666666666666,\"#ed7953\"],[0.7777777777777778,\"#fb9f3a\"],[0.8888888888888888,\"#fdca26\"],[1.0,\"#f0f921\"]]}],\"choropleth\":[{\"type\":\"choropleth\",\"colorbar\":{\"outlinewidth\":0,\"ticks\":\"\"}}],\"histogram2d\":[{\"type\":\"histogram2d\",\"colorbar\":{\"outlinewidth\":0,\"ticks\":\"\"},\"colorscale\":[[0.0,\"#0d0887\"],[0.1111111111111111,\"#46039f\"],[0.2222222222222222,\"#7201a8\"],[0.3333333333333333,\"#9c179e\"],[0.4444444444444444,\"#bd3786\"],[0.5555555555555556,\"#d8576b\"],[0.6666666666666666,\"#ed7953\"],[0.7777777777777778,\"#fb9f3a\"],[0.8888888888888888,\"#fdca26\"],[1.0,\"#f0f921\"]]}],\"heatmap\":[{\"type\":\"heatmap\",\"colorbar\":{\"outlinewidth\":0,\"ticks\":\"\"},\"colorscale\":[[0.0,\"#0d0887\"],[0.1111111111111111,\"#46039f\"],[0.2222222222222222,\"#7201a8\"],[0.3333333333333333,\"#9c179e\"],[0.4444444444444444,\"#bd3786\"],[0.5555555555555556,\"#d8576b\"],[0.6666666666666666,\"#ed7953\"],[0.7777777777777778,\"#fb9f3a\"],[0.8888888888888888,\"#fdca26\"],[1.0,\"#f0f921\"]]}],\"heatmapgl\":[{\"type\":\"heatmapgl\",\"colorbar\":{\"outlinewidth\":0,\"ticks\":\"\"},\"colorscale\":[[0.0,\"#0d0887\"],[0.1111111111111111,\"#46039f\"],[0.2222222222222222,\"#7201a8\"],[0.3333333333333333,\"#9c179e\"],[0.4444444444444444,\"#bd3786\"],[0.5555555555555556,\"#d8576b\"],[0.6666666666666666,\"#ed7953\"],[0.7777777777777778,\"#fb9f3a\"],[0.8888888888888888,\"#fdca26\"],[1.0,\"#f0f921\"]]}],\"contourcarpet\":[{\"type\":\"contourcarpet\",\"colorbar\":{\"outlinewidth\":0,\"ticks\":\"\"}}],\"contour\":[{\"type\":\"contour\",\"colorbar\":{\"outlinewidth\":0,\"ticks\":\"\"},\"colorscale\":[[0.0,\"#0d0887\"],[0.1111111111111111,\"#46039f\"],[0.2222222222222222,\"#7201a8\"],[0.3333333333333333,\"#9c179e\"],[0.4444444444444444,\"#bd3786\"],[0.5555555555555556,\"#d8576b\"],[0.6666666666666666,\"#ed7953\"],[0.7777777777777778,\"#fb9f3a\"],[0.8888888888888888,\"#fdca26\"],[1.0,\"#f0f921\"]]}],\"surface\":[{\"type\":\"surface\",\"colorbar\":{\"outlinewidth\":0,\"ticks\":\"\"},\"colorscale\":[[0.0,\"#0d0887\"],[0.1111111111111111,\"#46039f\"],[0.2222222222222222,\"#7201a8\"],[0.3333333333333333,\"#9c179e\"],[0.4444444444444444,\"#bd3786\"],[0.5555555555555556,\"#d8576b\"],[0.6666666666666666,\"#ed7953\"],[0.7777777777777778,\"#fb9f3a\"],[0.8888888888888888,\"#fdca26\"],[1.0,\"#f0f921\"]]}],\"mesh3d\":[{\"type\":\"mesh3d\",\"colorbar\":{\"outlinewidth\":0,\"ticks\":\"\"}}],\"scatter\":[{\"fillpattern\":{\"fillmode\":\"overlay\",\"size\":10,\"solidity\":0.2},\"type\":\"scatter\"}],\"parcoords\":[{\"type\":\"parcoords\",\"line\":{\"colorbar\":{\"outlinewidth\":0,\"ticks\":\"\"}}}],\"scatterpolargl\":[{\"type\":\"scatterpolargl\",\"marker\":{\"colorbar\":{\"outlinewidth\":0,\"ticks\":\"\"}}}],\"bar\":[{\"error_x\":{\"color\":\"#2a3f5f\"},\"error_y\":{\"color\":\"#2a3f5f\"},\"marker\":{\"line\":{\"color\":\"#E5ECF6\",\"width\":0.5},\"pattern\":{\"fillmode\":\"overlay\",\"size\":10,\"solidity\":0.2}},\"type\":\"bar\"}],\"scattergeo\":[{\"type\":\"scattergeo\",\"marker\":{\"colorbar\":{\"outlinewidth\":0,\"ticks\":\"\"}}}],\"scatterpolar\":[{\"type\":\"scatterpolar\",\"marker\":{\"colorbar\":{\"outlinewidth\":0,\"ticks\":\"\"}}}],\"histogram\":[{\"marker\":{\"pattern\":{\"fillmode\":\"overlay\",\"size\":10,\"solidity\":0.2}},\"type\":\"histogram\"}],\"scattergl\":[{\"type\":\"scattergl\",\"marker\":{\"colorbar\":{\"outlinewidth\":0,\"ticks\":\"\"}}}],\"scatter3d\":[{\"type\":\"scatter3d\",\"line\":{\"colorbar\":{\"outlinewidth\":0,\"ticks\":\"\"}},\"marker\":{\"colorbar\":{\"outlinewidth\":0,\"ticks\":\"\"}}}],\"scattermapbox\":[{\"type\":\"scattermapbox\",\"marker\":{\"colorbar\":{\"outlinewidth\":0,\"ticks\":\"\"}}}],\"scatterternary\":[{\"type\":\"scatterternary\",\"marker\":{\"colorbar\":{\"outlinewidth\":0,\"ticks\":\"\"}}}],\"scattercarpet\":[{\"type\":\"scattercarpet\",\"marker\":{\"colorbar\":{\"outlinewidth\":0,\"ticks\":\"\"}}}],\"carpet\":[{\"aaxis\":{\"endlinecolor\":\"#2a3f5f\",\"gridcolor\":\"white\",\"linecolor\":\"white\",\"minorgridcolor\":\"white\",\"startlinecolor\":\"#2a3f5f\"},\"baxis\":{\"endlinecolor\":\"#2a3f5f\",\"gridcolor\":\"white\",\"linecolor\":\"white\",\"minorgridcolor\":\"white\",\"startlinecolor\":\"#2a3f5f\"},\"type\":\"carpet\"}],\"table\":[{\"cells\":{\"fill\":{\"color\":\"#EBF0F8\"},\"line\":{\"color\":\"white\"}},\"header\":{\"fill\":{\"color\":\"#C8D4E3\"},\"line\":{\"color\":\"white\"}},\"type\":\"table\"}],\"barpolar\":[{\"marker\":{\"line\":{\"color\":\"#E5ECF6\",\"width\":0.5},\"pattern\":{\"fillmode\":\"overlay\",\"size\":10,\"solidity\":0.2}},\"type\":\"barpolar\"}],\"pie\":[{\"automargin\":true,\"type\":\"pie\"}]},\"layout\":{\"autotypenumbers\":\"strict\",\"colorway\":[\"#636efa\",\"#EF553B\",\"#00cc96\",\"#ab63fa\",\"#FFA15A\",\"#19d3f3\",\"#FF6692\",\"#B6E880\",\"#FF97FF\",\"#FECB52\"],\"font\":{\"color\":\"#2a3f5f\"},\"hovermode\":\"closest\",\"hoverlabel\":{\"align\":\"left\"},\"paper_bgcolor\":\"white\",\"plot_bgcolor\":\"#E5ECF6\",\"polar\":{\"bgcolor\":\"#E5ECF6\",\"angularaxis\":{\"gridcolor\":\"white\",\"linecolor\":\"white\",\"ticks\":\"\"},\"radialaxis\":{\"gridcolor\":\"white\",\"linecolor\":\"white\",\"ticks\":\"\"}},\"ternary\":{\"bgcolor\":\"#E5ECF6\",\"aaxis\":{\"gridcolor\":\"white\",\"linecolor\":\"white\",\"ticks\":\"\"},\"baxis\":{\"gridcolor\":\"white\",\"linecolor\":\"white\",\"ticks\":\"\"},\"caxis\":{\"gridcolor\":\"white\",\"linecolor\":\"white\",\"ticks\":\"\"}},\"coloraxis\":{\"colorbar\":{\"outlinewidth\":0,\"ticks\":\"\"}},\"colorscale\":{\"sequential\":[[0.0,\"#0d0887\"],[0.1111111111111111,\"#46039f\"],[0.2222222222222222,\"#7201a8\"],[0.3333333333333333,\"#9c179e\"],[0.4444444444444444,\"#bd3786\"],[0.5555555555555556,\"#d8576b\"],[0.6666666666666666,\"#ed7953\"],[0.7777777777777778,\"#fb9f3a\"],[0.8888888888888888,\"#fdca26\"],[1.0,\"#f0f921\"]],\"sequentialminus\":[[0.0,\"#0d0887\"],[0.1111111111111111,\"#46039f\"],[0.2222222222222222,\"#7201a8\"],[0.3333333333333333,\"#9c179e\"],[0.4444444444444444,\"#bd3786\"],[0.5555555555555556,\"#d8576b\"],[0.6666666666666666,\"#ed7953\"],[0.7777777777777778,\"#fb9f3a\"],[0.8888888888888888,\"#fdca26\"],[1.0,\"#f0f921\"]],\"diverging\":[[0,\"#8e0152\"],[0.1,\"#c51b7d\"],[0.2,\"#de77ae\"],[0.3,\"#f1b6da\"],[0.4,\"#fde0ef\"],[0.5,\"#f7f7f7\"],[0.6,\"#e6f5d0\"],[0.7,\"#b8e186\"],[0.8,\"#7fbc41\"],[0.9,\"#4d9221\"],[1,\"#276419\"]]},\"xaxis\":{\"gridcolor\":\"white\",\"linecolor\":\"white\",\"ticks\":\"\",\"title\":{\"standoff\":15},\"zerolinecolor\":\"white\",\"automargin\":true,\"zerolinewidth\":2},\"yaxis\":{\"gridcolor\":\"white\",\"linecolor\":\"white\",\"ticks\":\"\",\"title\":{\"standoff\":15},\"zerolinecolor\":\"white\",\"automargin\":true,\"zerolinewidth\":2},\"scene\":{\"xaxis\":{\"backgroundcolor\":\"#E5ECF6\",\"gridcolor\":\"white\",\"linecolor\":\"white\",\"showbackground\":true,\"ticks\":\"\",\"zerolinecolor\":\"white\",\"gridwidth\":2},\"yaxis\":{\"backgroundcolor\":\"#E5ECF6\",\"gridcolor\":\"white\",\"linecolor\":\"white\",\"showbackground\":true,\"ticks\":\"\",\"zerolinecolor\":\"white\",\"gridwidth\":2},\"zaxis\":{\"backgroundcolor\":\"#E5ECF6\",\"gridcolor\":\"white\",\"linecolor\":\"white\",\"showbackground\":true,\"ticks\":\"\",\"zerolinecolor\":\"white\",\"gridwidth\":2}},\"shapedefaults\":{\"line\":{\"color\":\"#2a3f5f\"}},\"annotationdefaults\":{\"arrowcolor\":\"#2a3f5f\",\"arrowhead\":0,\"arrowwidth\":1},\"geo\":{\"bgcolor\":\"white\",\"landcolor\":\"#E5ECF6\",\"subunitcolor\":\"white\",\"showland\":true,\"showlakes\":true,\"lakecolor\":\"white\"},\"title\":{\"x\":0.05},\"mapbox\":{\"style\":\"light\"}}},\"xaxis\":{\"anchor\":\"y\",\"domain\":[0.0,1.0],\"title\":{\"text\":\"Field X Position\"},\"showgrid\":true,\"gridwidth\":1,\"gridcolor\":\"lightgray\"},\"yaxis\":{\"anchor\":\"x\",\"domain\":[0.0,1.0],\"title\":{\"text\":\"Field Y Position\"},\"showgrid\":true,\"gridwidth\":1,\"gridcolor\":\"lightgray\"},\"legend\":{\"title\":{\"text\":\"E\"},\"tracegroupgap\":0},\"title\":{\"text\":\"Lacrosse Shot Chart\"},\"plot_bgcolor\":\"white\"},                        {\"responsive\": true}                    ).then(function(){\n",
              "                            \n",
              "var gd = document.getElementById('b553831b-e706-471c-bb49-2db127b779fc');\n",
              "var x = new MutationObserver(function (mutations, observer) {{\n",
              "        var display = window.getComputedStyle(gd).display;\n",
              "        if (!display || display === 'none') {{\n",
              "            console.log([gd, 'removed!']);\n",
              "            Plotly.purge(gd);\n",
              "            observer.disconnect();\n",
              "        }}\n",
              "}});\n",
              "\n",
              "// Listen for the removal of the full notebook cells\n",
              "var notebookContainer = gd.closest('#notebook-container');\n",
              "if (notebookContainer) {{\n",
              "    x.observe(notebookContainer, {childList: true});\n",
              "}}\n",
              "\n",
              "// Listen for the clearing of the current output cell\n",
              "var outputEl = gd.closest('.output');\n",
              "if (outputEl) {{\n",
              "    x.observe(outputEl, {childList: true});\n",
              "}}\n",
              "\n",
              "                        })                };                            </script>        </div>\n",
              "</body>\n",
              "</html>"
            ]
          },
          "metadata": {}
        }
      ]
    }
  ]
}